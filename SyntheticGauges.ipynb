version https://git-lfs.github.com/spec/v1
oid sha256:e1a55c563a071dc26239bfcb92ae500641655d50e0e87e54569b4be014fa9ce0
size 75638
